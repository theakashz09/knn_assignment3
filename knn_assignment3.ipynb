{
  "nbformat": 4,
  "nbformat_minor": 0,
  "metadata": {
    "colab": {
      "provenance": []
    },
    "kernelspec": {
      "name": "python3",
      "display_name": "Python 3"
    },
    "language_info": {
      "name": "python"
    }
  },
  "cells": [
    {
      "cell_type": "code",
      "execution_count": null,
      "metadata": {
        "id": "TxOybhDaxTVG"
      },
      "outputs": [],
      "source": []
    },
    {
      "cell_type": "markdown",
      "source": [
        "Q1. Write a Python code to implement the KNN classifier algorithm on load_iris dataset in sklearn.datasets."
      ],
      "metadata": {
        "id": "kivHFSWnxYBI"
      }
    },
    {
      "cell_type": "code",
      "source": [
        "import pandas as pd\n",
        "import numpy as np\n",
        "from sklearn.datasets import load_iris\n",
        "from sklearn.model_selection import train_test_split\n",
        "from sklearn.metrics import accuracy_score\n",
        "from sklearn.neighbors import KNeighborsClassifier"
      ],
      "metadata": {
        "id": "6v69Uqnaxi9l"
      },
      "execution_count": 1,
      "outputs": []
    },
    {
      "cell_type": "code",
      "source": [
        "X,y = load_iris(return_X_y=True)"
      ],
      "metadata": {
        "id": "bsHqnkcQxlte"
      },
      "execution_count": 2,
      "outputs": []
    },
    {
      "cell_type": "code",
      "source": [
        "X_train,X_test,y_train,y_test = train_test_split(X,y,test_size=0.25,random_state=45)"
      ],
      "metadata": {
        "id": "zzVT6qiRxzCn"
      },
      "execution_count": 3,
      "outputs": []
    },
    {
      "cell_type": "code",
      "source": [
        "classifier = KNeighborsClassifier()\n",
        "classifier.fit(X_train,y_train)\n",
        "y_pred = classifier.predict(X_test)\n",
        "\n",
        "print(f\"Accuracy: {accuracy_score(y_test, y_pred)}\")"
      ],
      "metadata": {
        "colab": {
          "base_uri": "https://localhost:8080/"
        },
        "id": "c67R123mx0pF",
        "outputId": "12f645e1-6c2a-4579-8f96-95c8f88c1b79"
      },
      "execution_count": 4,
      "outputs": [
        {
          "output_type": "stream",
          "name": "stdout",
          "text": [
            "Accuracy: 0.9473684210526315\n"
          ]
        }
      ]
    },
    {
      "cell_type": "code",
      "source": [],
      "metadata": {
        "id": "42V4LkFjx2my"
      },
      "execution_count": null,
      "outputs": []
    },
    {
      "cell_type": "markdown",
      "source": [
        "Q2. Write a Python code to implement the KNN regressor algorithm on load_boston dataset in sklearn.datasets."
      ],
      "metadata": {
        "id": "wmcYhw7Gx5bN"
      }
    },
    {
      "cell_type": "code",
      "source": [
        "from sklearn.neighbors import KNeighborsRegressor\n",
        "# from sklearn.datasets import load_boston\n",
        "from sklearn.metrics import r2_score"
      ],
      "metadata": {
        "id": "3IByFYZVx6Nj"
      },
      "execution_count": 5,
      "outputs": []
    },
    {
      "cell_type": "code",
      "source": [
        "#Since the load boston dataset is removed from sklearn we are using dataset url\n",
        "import pandas as pd\n",
        "import numpy as np\n",
        "data_url = \"http://lib.stat.cmu.edu/datasets/boston\"\n",
        "raw_df = pd.read_csv(data_url, sep=\"\\s+\", skiprows=22, header=None)\n",
        "data = np.hstack([raw_df.values[::2, :], raw_df.values[1::2, :2]])\n",
        "target = raw_df.values[1::2, 2]\n",
        "raw_df.head()"
      ],
      "metadata": {
        "colab": {
          "base_uri": "https://localhost:8080/",
          "height": 206
        },
        "id": "NdKtTcg0x8Ap",
        "outputId": "af6eb645-35a7-44d1-88c7-594243ef89fa"
      },
      "execution_count": 6,
      "outputs": [
        {
          "output_type": "execute_result",
          "data": {
            "text/plain": [
              "          0      1      2    3      4      5     6       7    8      9     10\n",
              "0    0.00632  18.00   2.31  0.0  0.538  6.575  65.2  4.0900  1.0  296.0  15.3\n",
              "1  396.90000   4.98  24.00  NaN    NaN    NaN   NaN     NaN  NaN    NaN   NaN\n",
              "2    0.02731   0.00   7.07  0.0  0.469  6.421  78.9  4.9671  2.0  242.0  17.8\n",
              "3  396.90000   9.14  21.60  NaN    NaN    NaN   NaN     NaN  NaN    NaN   NaN\n",
              "4    0.02729   0.00   7.07  0.0  0.469  7.185  61.1  4.9671  2.0  242.0  17.8"
            ],
            "text/html": [
              "\n",
              "  <div id=\"df-e275d3f0-adaa-48b7-bb57-ba564f1e82f9\" class=\"colab-df-container\">\n",
              "    <div>\n",
              "<style scoped>\n",
              "    .dataframe tbody tr th:only-of-type {\n",
              "        vertical-align: middle;\n",
              "    }\n",
              "\n",
              "    .dataframe tbody tr th {\n",
              "        vertical-align: top;\n",
              "    }\n",
              "\n",
              "    .dataframe thead th {\n",
              "        text-align: right;\n",
              "    }\n",
              "</style>\n",
              "<table border=\"1\" class=\"dataframe\">\n",
              "  <thead>\n",
              "    <tr style=\"text-align: right;\">\n",
              "      <th></th>\n",
              "      <th>0</th>\n",
              "      <th>1</th>\n",
              "      <th>2</th>\n",
              "      <th>3</th>\n",
              "      <th>4</th>\n",
              "      <th>5</th>\n",
              "      <th>6</th>\n",
              "      <th>7</th>\n",
              "      <th>8</th>\n",
              "      <th>9</th>\n",
              "      <th>10</th>\n",
              "    </tr>\n",
              "  </thead>\n",
              "  <tbody>\n",
              "    <tr>\n",
              "      <th>0</th>\n",
              "      <td>0.00632</td>\n",
              "      <td>18.00</td>\n",
              "      <td>2.31</td>\n",
              "      <td>0.0</td>\n",
              "      <td>0.538</td>\n",
              "      <td>6.575</td>\n",
              "      <td>65.2</td>\n",
              "      <td>4.0900</td>\n",
              "      <td>1.0</td>\n",
              "      <td>296.0</td>\n",
              "      <td>15.3</td>\n",
              "    </tr>\n",
              "    <tr>\n",
              "      <th>1</th>\n",
              "      <td>396.90000</td>\n",
              "      <td>4.98</td>\n",
              "      <td>24.00</td>\n",
              "      <td>NaN</td>\n",
              "      <td>NaN</td>\n",
              "      <td>NaN</td>\n",
              "      <td>NaN</td>\n",
              "      <td>NaN</td>\n",
              "      <td>NaN</td>\n",
              "      <td>NaN</td>\n",
              "      <td>NaN</td>\n",
              "    </tr>\n",
              "    <tr>\n",
              "      <th>2</th>\n",
              "      <td>0.02731</td>\n",
              "      <td>0.00</td>\n",
              "      <td>7.07</td>\n",
              "      <td>0.0</td>\n",
              "      <td>0.469</td>\n",
              "      <td>6.421</td>\n",
              "      <td>78.9</td>\n",
              "      <td>4.9671</td>\n",
              "      <td>2.0</td>\n",
              "      <td>242.0</td>\n",
              "      <td>17.8</td>\n",
              "    </tr>\n",
              "    <tr>\n",
              "      <th>3</th>\n",
              "      <td>396.90000</td>\n",
              "      <td>9.14</td>\n",
              "      <td>21.60</td>\n",
              "      <td>NaN</td>\n",
              "      <td>NaN</td>\n",
              "      <td>NaN</td>\n",
              "      <td>NaN</td>\n",
              "      <td>NaN</td>\n",
              "      <td>NaN</td>\n",
              "      <td>NaN</td>\n",
              "      <td>NaN</td>\n",
              "    </tr>\n",
              "    <tr>\n",
              "      <th>4</th>\n",
              "      <td>0.02729</td>\n",
              "      <td>0.00</td>\n",
              "      <td>7.07</td>\n",
              "      <td>0.0</td>\n",
              "      <td>0.469</td>\n",
              "      <td>7.185</td>\n",
              "      <td>61.1</td>\n",
              "      <td>4.9671</td>\n",
              "      <td>2.0</td>\n",
              "      <td>242.0</td>\n",
              "      <td>17.8</td>\n",
              "    </tr>\n",
              "  </tbody>\n",
              "</table>\n",
              "</div>\n",
              "    <div class=\"colab-df-buttons\">\n",
              "\n",
              "  <div class=\"colab-df-container\">\n",
              "    <button class=\"colab-df-convert\" onclick=\"convertToInteractive('df-e275d3f0-adaa-48b7-bb57-ba564f1e82f9')\"\n",
              "            title=\"Convert this dataframe to an interactive table.\"\n",
              "            style=\"display:none;\">\n",
              "\n",
              "  <svg xmlns=\"http://www.w3.org/2000/svg\" height=\"24px\" viewBox=\"0 -960 960 960\">\n",
              "    <path d=\"M120-120v-720h720v720H120Zm60-500h600v-160H180v160Zm220 220h160v-160H400v160Zm0 220h160v-160H400v160ZM180-400h160v-160H180v160Zm440 0h160v-160H620v160ZM180-180h160v-160H180v160Zm440 0h160v-160H620v160Z\"/>\n",
              "  </svg>\n",
              "    </button>\n",
              "\n",
              "  <style>\n",
              "    .colab-df-container {\n",
              "      display:flex;\n",
              "      gap: 12px;\n",
              "    }\n",
              "\n",
              "    .colab-df-convert {\n",
              "      background-color: #E8F0FE;\n",
              "      border: none;\n",
              "      border-radius: 50%;\n",
              "      cursor: pointer;\n",
              "      display: none;\n",
              "      fill: #1967D2;\n",
              "      height: 32px;\n",
              "      padding: 0 0 0 0;\n",
              "      width: 32px;\n",
              "    }\n",
              "\n",
              "    .colab-df-convert:hover {\n",
              "      background-color: #E2EBFA;\n",
              "      box-shadow: 0px 1px 2px rgba(60, 64, 67, 0.3), 0px 1px 3px 1px rgba(60, 64, 67, 0.15);\n",
              "      fill: #174EA6;\n",
              "    }\n",
              "\n",
              "    .colab-df-buttons div {\n",
              "      margin-bottom: 4px;\n",
              "    }\n",
              "\n",
              "    [theme=dark] .colab-df-convert {\n",
              "      background-color: #3B4455;\n",
              "      fill: #D2E3FC;\n",
              "    }\n",
              "\n",
              "    [theme=dark] .colab-df-convert:hover {\n",
              "      background-color: #434B5C;\n",
              "      box-shadow: 0px 1px 3px 1px rgba(0, 0, 0, 0.15);\n",
              "      filter: drop-shadow(0px 1px 2px rgba(0, 0, 0, 0.3));\n",
              "      fill: #FFFFFF;\n",
              "    }\n",
              "  </style>\n",
              "\n",
              "    <script>\n",
              "      const buttonEl =\n",
              "        document.querySelector('#df-e275d3f0-adaa-48b7-bb57-ba564f1e82f9 button.colab-df-convert');\n",
              "      buttonEl.style.display =\n",
              "        google.colab.kernel.accessAllowed ? 'block' : 'none';\n",
              "\n",
              "      async function convertToInteractive(key) {\n",
              "        const element = document.querySelector('#df-e275d3f0-adaa-48b7-bb57-ba564f1e82f9');\n",
              "        const dataTable =\n",
              "          await google.colab.kernel.invokeFunction('convertToInteractive',\n",
              "                                                    [key], {});\n",
              "        if (!dataTable) return;\n",
              "\n",
              "        const docLinkHtml = 'Like what you see? Visit the ' +\n",
              "          '<a target=\"_blank\" href=https://colab.research.google.com/notebooks/data_table.ipynb>data table notebook</a>'\n",
              "          + ' to learn more about interactive tables.';\n",
              "        element.innerHTML = '';\n",
              "        dataTable['output_type'] = 'display_data';\n",
              "        await google.colab.output.renderOutput(dataTable, element);\n",
              "        const docLink = document.createElement('div');\n",
              "        docLink.innerHTML = docLinkHtml;\n",
              "        element.appendChild(docLink);\n",
              "      }\n",
              "    </script>\n",
              "  </div>\n",
              "\n",
              "\n",
              "<div id=\"df-a2afa9c1-5c53-4cf8-b037-8d93984b90be\">\n",
              "  <button class=\"colab-df-quickchart\" onclick=\"quickchart('df-a2afa9c1-5c53-4cf8-b037-8d93984b90be')\"\n",
              "            title=\"Suggest charts\"\n",
              "            style=\"display:none;\">\n",
              "\n",
              "<svg xmlns=\"http://www.w3.org/2000/svg\" height=\"24px\"viewBox=\"0 0 24 24\"\n",
              "     width=\"24px\">\n",
              "    <g>\n",
              "        <path d=\"M19 3H5c-1.1 0-2 .9-2 2v14c0 1.1.9 2 2 2h14c1.1 0 2-.9 2-2V5c0-1.1-.9-2-2-2zM9 17H7v-7h2v7zm4 0h-2V7h2v10zm4 0h-2v-4h2v4z\"/>\n",
              "    </g>\n",
              "</svg>\n",
              "  </button>\n",
              "\n",
              "<style>\n",
              "  .colab-df-quickchart {\n",
              "      --bg-color: #E8F0FE;\n",
              "      --fill-color: #1967D2;\n",
              "      --hover-bg-color: #E2EBFA;\n",
              "      --hover-fill-color: #174EA6;\n",
              "      --disabled-fill-color: #AAA;\n",
              "      --disabled-bg-color: #DDD;\n",
              "  }\n",
              "\n",
              "  [theme=dark] .colab-df-quickchart {\n",
              "      --bg-color: #3B4455;\n",
              "      --fill-color: #D2E3FC;\n",
              "      --hover-bg-color: #434B5C;\n",
              "      --hover-fill-color: #FFFFFF;\n",
              "      --disabled-bg-color: #3B4455;\n",
              "      --disabled-fill-color: #666;\n",
              "  }\n",
              "\n",
              "  .colab-df-quickchart {\n",
              "    background-color: var(--bg-color);\n",
              "    border: none;\n",
              "    border-radius: 50%;\n",
              "    cursor: pointer;\n",
              "    display: none;\n",
              "    fill: var(--fill-color);\n",
              "    height: 32px;\n",
              "    padding: 0;\n",
              "    width: 32px;\n",
              "  }\n",
              "\n",
              "  .colab-df-quickchart:hover {\n",
              "    background-color: var(--hover-bg-color);\n",
              "    box-shadow: 0 1px 2px rgba(60, 64, 67, 0.3), 0 1px 3px 1px rgba(60, 64, 67, 0.15);\n",
              "    fill: var(--button-hover-fill-color);\n",
              "  }\n",
              "\n",
              "  .colab-df-quickchart-complete:disabled,\n",
              "  .colab-df-quickchart-complete:disabled:hover {\n",
              "    background-color: var(--disabled-bg-color);\n",
              "    fill: var(--disabled-fill-color);\n",
              "    box-shadow: none;\n",
              "  }\n",
              "\n",
              "  .colab-df-spinner {\n",
              "    border: 2px solid var(--fill-color);\n",
              "    border-color: transparent;\n",
              "    border-bottom-color: var(--fill-color);\n",
              "    animation:\n",
              "      spin 1s steps(1) infinite;\n",
              "  }\n",
              "\n",
              "  @keyframes spin {\n",
              "    0% {\n",
              "      border-color: transparent;\n",
              "      border-bottom-color: var(--fill-color);\n",
              "      border-left-color: var(--fill-color);\n",
              "    }\n",
              "    20% {\n",
              "      border-color: transparent;\n",
              "      border-left-color: var(--fill-color);\n",
              "      border-top-color: var(--fill-color);\n",
              "    }\n",
              "    30% {\n",
              "      border-color: transparent;\n",
              "      border-left-color: var(--fill-color);\n",
              "      border-top-color: var(--fill-color);\n",
              "      border-right-color: var(--fill-color);\n",
              "    }\n",
              "    40% {\n",
              "      border-color: transparent;\n",
              "      border-right-color: var(--fill-color);\n",
              "      border-top-color: var(--fill-color);\n",
              "    }\n",
              "    60% {\n",
              "      border-color: transparent;\n",
              "      border-right-color: var(--fill-color);\n",
              "    }\n",
              "    80% {\n",
              "      border-color: transparent;\n",
              "      border-right-color: var(--fill-color);\n",
              "      border-bottom-color: var(--fill-color);\n",
              "    }\n",
              "    90% {\n",
              "      border-color: transparent;\n",
              "      border-bottom-color: var(--fill-color);\n",
              "    }\n",
              "  }\n",
              "</style>\n",
              "\n",
              "  <script>\n",
              "    async function quickchart(key) {\n",
              "      const quickchartButtonEl =\n",
              "        document.querySelector('#' + key + ' button');\n",
              "      quickchartButtonEl.disabled = true;  // To prevent multiple clicks.\n",
              "      quickchartButtonEl.classList.add('colab-df-spinner');\n",
              "      try {\n",
              "        const charts = await google.colab.kernel.invokeFunction(\n",
              "            'suggestCharts', [key], {});\n",
              "      } catch (error) {\n",
              "        console.error('Error during call to suggestCharts:', error);\n",
              "      }\n",
              "      quickchartButtonEl.classList.remove('colab-df-spinner');\n",
              "      quickchartButtonEl.classList.add('colab-df-quickchart-complete');\n",
              "    }\n",
              "    (() => {\n",
              "      let quickchartButtonEl =\n",
              "        document.querySelector('#df-a2afa9c1-5c53-4cf8-b037-8d93984b90be button');\n",
              "      quickchartButtonEl.style.display =\n",
              "        google.colab.kernel.accessAllowed ? 'block' : 'none';\n",
              "    })();\n",
              "  </script>\n",
              "</div>\n",
              "\n",
              "    </div>\n",
              "  </div>\n"
            ],
            "application/vnd.google.colaboratory.intrinsic+json": {
              "type": "dataframe",
              "variable_name": "raw_df",
              "summary": "{\n  \"name\": \"raw_df\",\n  \"rows\": 1012,\n  \"fields\": [\n    {\n      \"column\": 0,\n      \"properties\": {\n        \"dtype\": \"number\",\n        \"std\": 188.13283937823934,\n        \"min\": 0.00632,\n        \"max\": 396.9,\n        \"num_unique_values\": 861,\n        \"samples\": [\n          7.02259,\n          0.10659,\n          376.94\n        ],\n        \"semantic_type\": \"\",\n        \"description\": \"\"\n      }\n    },\n    {\n      \"column\": 1,\n      \"properties\": {\n        \"dtype\": \"number\",\n        \"std\": 17.250728213077732,\n        \"min\": 0.0,\n        \"max\": 100.0,\n        \"num_unique_values\": 480,\n        \"samples\": [\n          17.5,\n          17.64,\n          12.13\n        ],\n        \"semantic_type\": \"\",\n        \"description\": \"\"\n      }\n    },\n    {\n      \"column\": 2,\n      \"properties\": {\n        \"dtype\": \"number\",\n        \"std\": 9.912615669583923,\n        \"min\": 0.46,\n        \"max\": 50.0,\n        \"num_unique_values\": 304,\n        \"samples\": [\n          30.1,\n          29.8,\n          17.3\n        ],\n        \"semantic_type\": \"\",\n        \"description\": \"\"\n      }\n    },\n    {\n      \"column\": 3,\n      \"properties\": {\n        \"dtype\": \"number\",\n        \"std\": 0.2539940413404118,\n        \"min\": 0.0,\n        \"max\": 1.0,\n        \"num_unique_values\": 2,\n        \"samples\": [\n          1.0,\n          0.0\n        ],\n        \"semantic_type\": \"\",\n        \"description\": \"\"\n      }\n    },\n    {\n      \"column\": 4,\n      \"properties\": {\n        \"dtype\": \"number\",\n        \"std\": 0.11587767566755611,\n        \"min\": 0.385,\n        \"max\": 0.871,\n        \"num_unique_values\": 81,\n        \"samples\": [\n          0.401,\n          0.538\n        ],\n        \"semantic_type\": \"\",\n        \"description\": \"\"\n      }\n    },\n    {\n      \"column\": 5,\n      \"properties\": {\n        \"dtype\": \"number\",\n        \"std\": 0.7026171434153237,\n        \"min\": 3.561,\n        \"max\": 8.78,\n        \"num_unique_values\": 446,\n        \"samples\": [\n          6.849,\n          4.88\n        ],\n        \"semantic_type\": \"\",\n        \"description\": \"\"\n      }\n    },\n    {\n      \"column\": 6,\n      \"properties\": {\n        \"dtype\": \"number\",\n        \"std\": 28.148861406903638,\n        \"min\": 2.9,\n        \"max\": 100.0,\n        \"num_unique_values\": 356,\n        \"samples\": [\n          51.8,\n          33.8\n        ],\n        \"semantic_type\": \"\",\n        \"description\": \"\"\n      }\n    },\n    {\n      \"column\": 7,\n      \"properties\": {\n        \"dtype\": \"number\",\n        \"std\": 2.1057101266276104,\n        \"min\": 1.1296,\n        \"max\": 12.1265,\n        \"num_unique_values\": 412,\n        \"samples\": [\n          2.2955,\n          4.2515\n        ],\n        \"semantic_type\": \"\",\n        \"description\": \"\"\n      }\n    },\n    {\n      \"column\": 8,\n      \"properties\": {\n        \"dtype\": \"number\",\n        \"std\": 8.707259384239377,\n        \"min\": 1.0,\n        \"max\": 24.0,\n        \"num_unique_values\": 9,\n        \"samples\": [\n          7.0,\n          2.0\n        ],\n        \"semantic_type\": \"\",\n        \"description\": \"\"\n      }\n    },\n    {\n      \"column\": 9,\n      \"properties\": {\n        \"dtype\": \"number\",\n        \"std\": 168.53711605495926,\n        \"min\": 187.0,\n        \"max\": 711.0,\n        \"num_unique_values\": 66,\n        \"samples\": [\n          370.0,\n          666.0\n        ],\n        \"semantic_type\": \"\",\n        \"description\": \"\"\n      }\n    },\n    {\n      \"column\": 10,\n      \"properties\": {\n        \"dtype\": \"number\",\n        \"std\": 2.164945523714446,\n        \"min\": 12.6,\n        \"max\": 22.0,\n        \"num_unique_values\": 46,\n        \"samples\": [\n          19.6,\n          15.6\n        ],\n        \"semantic_type\": \"\",\n        \"description\": \"\"\n      }\n    }\n  ]\n}"
            }
          },
          "metadata": {},
          "execution_count": 6
        }
      ]
    },
    {
      "cell_type": "code",
      "source": [
        "X_train,X_test,y_train,y_test = train_test_split(data,target,test_size=0.25,random_state=45)"
      ],
      "metadata": {
        "id": "XXdWl8A9x-Bp"
      },
      "execution_count": 7,
      "outputs": []
    },
    {
      "cell_type": "code",
      "source": [
        "regressor = KNeighborsRegressor()\n",
        "regressor.fit(X_train,y_train)\n",
        "y_pred = regressor.predict(X_test)\n",
        "\n",
        "print(f\"R2 Score: {r2_score(y_test, y_pred)}\")"
      ],
      "metadata": {
        "colab": {
          "base_uri": "https://localhost:8080/"
        },
        "id": "ysP71q14yAL5",
        "outputId": "adc70713-622f-4b0f-e781-3f281c3ca8b4"
      },
      "execution_count": 8,
      "outputs": [
        {
          "output_type": "stream",
          "name": "stdout",
          "text": [
            "R2 Score: 0.45995789449105906\n"
          ]
        }
      ]
    },
    {
      "cell_type": "code",
      "source": [],
      "metadata": {
        "id": "bOkt8bpzyB95"
      },
      "execution_count": null,
      "outputs": []
    },
    {
      "cell_type": "markdown",
      "source": [
        "Q3. Write a Python code snippet to find the optimal value of K for the KNN classifier algorithm using cross-validation on load_iris dataset in sklearn.datasets."
      ],
      "metadata": {
        "id": "2zhg71wWyEYU"
      }
    },
    {
      "cell_type": "code",
      "source": [
        "import pandas as pd\n",
        "import numpy as np\n",
        "from sklearn.datasets import load_iris\n",
        "from sklearn.model_selection import train_test_split,cross_val_score\n",
        "from sklearn.metrics import accuracy_score\n",
        "from sklearn.neighbors import KNeighborsClassifier\n",
        "\n",
        "#load the iris dataset\n",
        "X,y = load_iris(return_X_y=True)\n",
        "\n",
        "#train test split\n",
        "X_train,X_test,y_train,y_test = train_test_split(X,y,test_size=0.25,random_state=45)\n",
        "\n",
        "# Create a list of K values to try\n",
        "k_values = list(range(1, 25))\n",
        "\n",
        "# Create an empty list to store cross-validation scores\n",
        "cv_scores = []\n",
        "\n",
        "# Iterate over each K value and perform cross-validation\n",
        "for k in k_values:\n",
        "    knn_classifier = KNeighborsClassifier(n_neighbors=k)\n",
        "    scores = cross_val_score(knn_classifier, X_train, y_train, cv=5, scoring='accuracy')\n",
        "    cv_scores.append(scores.mean())\n",
        "\n",
        "# Find the optimal K value with the highest cross-validation score\n",
        "optimal_k = k_values[cv_scores.index(max(cv_scores))]\n",
        "\n",
        "print(f\"The optimal K value is {optimal_k} with a cross-validation accuracy of {max(cv_scores)}\")\n",
        "\n",
        "# Finally, you can train the KNN classifier with the optimal K on the full training set and evaluate it on the test set.\n",
        "optimal_knn_classifier = KNeighborsClassifier(n_neighbors=optimal_k)\n",
        "optimal_knn_classifier.fit(X_train, y_train)\n",
        "y_pred = optimal_knn_classifier.predict(X_test)\n",
        "print(f\"Accuracy: {accuracy_score(y_test, y_pred)}\")\n"
      ],
      "metadata": {
        "colab": {
          "base_uri": "https://localhost:8080/"
        },
        "id": "ak2tTfmJyFDJ",
        "outputId": "43865021-7708-441b-ec7f-b19e4f82cd59"
      },
      "execution_count": 9,
      "outputs": [
        {
          "output_type": "stream",
          "name": "stdout",
          "text": [
            "The optimal K value is 5 with a cross-validation accuracy of 0.9640316205533598\n",
            "Accuracy: 0.9473684210526315\n"
          ]
        }
      ]
    },
    {
      "cell_type": "code",
      "source": [],
      "metadata": {
        "id": "LPCE6AxqyH_h"
      },
      "execution_count": null,
      "outputs": []
    },
    {
      "cell_type": "markdown",
      "source": [
        "Q4. Implement the KNN regressor algorithm with feature scaling on load_boston dataset in sklearn.datasets."
      ],
      "metadata": {
        "id": "O0mgftQiyLiV"
      }
    },
    {
      "cell_type": "code",
      "source": [
        "from sklearn.neighbors import KNeighborsRegressor\n",
        "# from sklearn.datasets import load_boston\n",
        "from sklearn.metrics import r2_score\n",
        "from sklearn.preprocessing import StandardScaler\n",
        "\n",
        "#Since the load boston dataset is removed from sklearn we are using dataset url\n",
        "import pandas as pd\n",
        "import numpy as np\n",
        "data_url = \"http://lib.stat.cmu.edu/datasets/boston\"\n",
        "raw_df = pd.read_csv(data_url, sep=\"\\s+\", skiprows=22, header=None)\n",
        "data = np.hstack([raw_df.values[::2, :], raw_df.values[1::2, :2]])\n",
        "target = raw_df.values[1::2, 2]\n",
        "\n",
        "#train test split\n",
        "X_train,X_test,y_train,y_test = train_test_split(data,target,test_size=0.25,random_state=45)\n",
        "\n",
        "#Standardization of numerical columns by using StandardScaler\n",
        "scaler = StandardScaler()\n",
        "X_train = scaler.fit_transform(X_train)\n",
        "X_test = scaler.transform(X_test)\n",
        "\n",
        "#Applying KNN regresssor\n",
        "regressor = KNeighborsRegressor()\n",
        "regressor.fit(X_train,y_train)\n",
        "y_pred = regressor.predict(X_test)\n",
        "\n",
        "#Checking the prediction r2 score of the model\n",
        "print(f\"R2 Score: {r2_score(y_test, y_pred)}\")"
      ],
      "metadata": {
        "colab": {
          "base_uri": "https://localhost:8080/"
        },
        "id": "MeKJf_clyMHI",
        "outputId": "aafc0ffb-1f9e-49c6-fe0a-a2d794cededc"
      },
      "execution_count": 10,
      "outputs": [
        {
          "output_type": "stream",
          "name": "stdout",
          "text": [
            "R2 Score: 0.758193487336346\n"
          ]
        }
      ]
    },
    {
      "cell_type": "code",
      "source": [],
      "metadata": {
        "id": "uD6fIC-3yOtB"
      },
      "execution_count": null,
      "outputs": []
    },
    {
      "cell_type": "markdown",
      "source": [
        "Q5. Write a Python code snippet to implement the KNN classifier algorithm with weighted voting on load_iris dataset in sklearn.datasets."
      ],
      "metadata": {
        "id": "YxNcoIklyRPU"
      }
    },
    {
      "cell_type": "code",
      "source": [
        "import numpy as np\n",
        "import pandas as pd\n",
        "from sklearn.datasets import load_iris\n",
        "from sklearn.model_selection import train_test_split\n",
        "from sklearn.neighbors import KNeighborsClassifier\n",
        "\n",
        "X,y = load_iris(return_X_y=True)\n",
        "\n",
        "X_train,X_test,y_train,y_test = train_test_split(X,y,test_size=0.25,random_state=45)\n",
        "\n",
        "# Create a KNN classifier with weighted voting\n",
        "classifierr = KNeighborsClassifier(weights='distance')\n",
        "\n",
        "# Fit the classifier on the training data\n",
        "classifierr.fit(X_train, y_train)\n",
        "\n",
        "# Make predictions on the test data\n",
        "y_pred = classifierr.predict(X_test)\n",
        "\n",
        "# Evaluate the accuracy of the model\n",
        "accuracy = classifierr.score(X_test, y_test)\n",
        "print(f\"Accuracy: {accuracy:.2f}\")"
      ],
      "metadata": {
        "colab": {
          "base_uri": "https://localhost:8080/"
        },
        "id": "0eV98wWlyRz4",
        "outputId": "095e69c6-676b-43b7-c7bd-f29e7a124c0c"
      },
      "execution_count": 11,
      "outputs": [
        {
          "output_type": "stream",
          "name": "stdout",
          "text": [
            "Accuracy: 0.95\n"
          ]
        }
      ]
    },
    {
      "cell_type": "code",
      "source": [],
      "metadata": {
        "id": "23ATyRsyyUI8"
      },
      "execution_count": null,
      "outputs": []
    },
    {
      "cell_type": "markdown",
      "source": [
        "Q6. Implement a function to standardise the features before applying KNN classifier."
      ],
      "metadata": {
        "id": "4mS5pDYDyV6M"
      }
    },
    {
      "cell_type": "code",
      "source": [
        "from sklearn.preprocessing import StandardScaler\n",
        "\n",
        "def standardize_features(X_train, X_test):\n",
        "    scaler = StandardScaler()\n",
        "    X_train_std = scaler.fit_transform(X_train)\n",
        "    X_test_std = scaler.transform(X_test)\n",
        "    return X_train_std, X_test_std"
      ],
      "metadata": {
        "id": "OHNvKEvzyWm_"
      },
      "execution_count": 12,
      "outputs": []
    },
    {
      "cell_type": "code",
      "source": [
        "X_train_std, X_test_std = standardize_features(X_train, X_test)\n",
        "print(\"Standardized Training Data:\")\n",
        "print(X_train_std)\n",
        "print(\"Standardized Testing Data:\")\n",
        "print(X_test_std)"
      ],
      "metadata": {
        "colab": {
          "base_uri": "https://localhost:8080/"
        },
        "id": "ykEnvQuJyYkY",
        "outputId": "772ad63e-3795-4125-cb8d-4b83e221b53f"
      },
      "execution_count": 13,
      "outputs": [
        {
          "output_type": "stream",
          "name": "stdout",
          "text": [
            "Standardized Training Data:\n",
            "[[ 0.65250979 -0.34643465  0.29999603  0.12464034]\n",
            " [-1.2770241   0.08952806 -1.24810637 -1.3240097 ]\n",
            " [-0.43285303  2.48732297 -1.36278062 -1.3240097 ]\n",
            " [-0.07106542 -0.78239737  0.07064753 -0.00705511]\n",
            " [-1.15642824 -0.1284533  -1.36278062 -1.3240097 ]\n",
            " [ 1.25548913  0.08952806  0.64401879  0.38803126]\n",
            " [-1.03583237 -1.65432279 -0.27337523 -0.27044603]\n",
            " [-0.9152365   1.39741619 -1.30544349 -1.06061878]\n",
            " [ 0.65250979 -0.78239737  0.87336729  0.9148131 ]\n",
            " [ 0.17012631 -1.87230414  0.12798466 -0.27044603]\n",
            " [ 2.22025607  1.61539755  1.67608706  1.30989947]\n",
            " [-1.15642824  1.17943484 -1.36278062 -1.45570516]\n",
            " [-1.2770241  -0.1284533  -1.36278062 -1.19231424]\n",
            " [-0.31225716 -0.1284533   0.41467029  0.38803126]\n",
            " [ 0.65250979 -0.56441601  1.04537867  1.17820401]\n",
            " [-0.67404476  1.39741619 -1.30544349 -1.3240097 ]\n",
            " [ 1.01429739  0.52549077  1.1027158   1.70498585]\n",
            " [-0.9152365   1.61539755 -1.30544349 -1.19231424]\n",
            " [-1.39761997  0.30750941 -1.24810637 -1.3240097 ]\n",
            " [-0.31225716 -0.78239737  0.24265891  0.12464034]\n",
            " [-1.51821584  0.30750941 -1.36278062 -1.3240097 ]\n",
            " [-0.43285303 -1.00037872  0.35733316 -0.00705511]\n",
            " [ 0.53191392 -1.21836008  0.64401879  0.38803126]\n",
            " [ 0.17012631 -0.1284533   0.58668166  0.78311764]\n",
            " [-0.31225716 -1.21836008  0.07064753 -0.13875057]\n",
            " [ 1.25548913  0.08952806  0.75869304  1.44159493]\n",
            " [-1.39761997  0.30750941 -1.42011774 -1.3240097 ]\n",
            " [-0.9152365   0.74347212 -1.30544349 -1.3240097 ]\n",
            " [-1.63881171 -1.65432279 -1.42011774 -1.19231424]\n",
            " [-0.9152365   0.52549077 -1.19076924 -0.92892332]\n",
            " [ 0.29072218 -0.56441601  0.12798466  0.12464034]\n",
            " [-1.03583237  0.74347212 -1.30544349 -1.3240097 ]\n",
            " [ 1.376085    0.30750941  0.52934454  0.2563358 ]\n",
            " [ 2.22025607 -0.1284533   1.3320643   1.44159493]\n",
            " [-0.43285303 -1.43634143  0.0133104  -0.13875057]\n",
            " [ 0.29072218 -0.56441601  0.52934454 -0.00705511]\n",
            " [ 0.41131805 -0.34643465  0.29999603  0.12464034]\n",
            " [-1.15642824  0.08952806 -1.30544349 -1.45570516]\n",
            " [-0.5534489   0.74347212 -1.19076924 -1.3240097 ]\n",
            " [ 0.17012631 -0.78239737  0.75869304  0.51972672]\n",
            " [-0.19166129  1.61539755 -1.19076924 -1.19231424]\n",
            " [ 0.17012631 -0.34643465  0.41467029  0.38803126]\n",
            " [ 0.53191392  0.52549077  1.27472717  1.70498585]\n",
            " [ 2.22025607 -0.56441601  1.67608706  1.04650856]\n",
            " [-0.07106542 -0.56441601  0.75869304  1.57329039]\n",
            " [-0.43285303 -1.21836008  0.12798466  0.12464034]\n",
            " [-0.07106542 -0.78239737  0.18532178 -0.27044603]\n",
            " [ 1.13489326  0.30750941  1.21739005  1.44159493]\n",
            " [-0.43285303 -1.43634143 -0.04402672 -0.27044603]\n",
            " [-0.5534489   1.8333789  -1.19076924 -1.06061878]\n",
            " [-0.31225716 -0.1284533   0.18532178  0.12464034]\n",
            " [-0.19166129 -0.56441601  0.41467029  0.12464034]\n",
            " [-0.79464063 -0.78239737  0.07064753  0.2563358 ]\n",
            " [ 1.49668086 -0.1284533   1.21739005  1.17820401]\n",
            " [-0.19166129 -0.56441601  0.18532178  0.12464034]\n",
            " [ 0.04953045  0.30750941  0.58668166  0.78311764]\n",
            " [ 1.7378726  -0.34643465  1.44673855  0.78311764]\n",
            " [-1.03583237 -2.30826686 -0.15870097 -0.27044603]\n",
            " [ 0.89370152 -0.34643465  0.47200741  0.12464034]\n",
            " [ 0.04953045 -0.1284533   0.75869304  0.78311764]\n",
            " [ 0.29072218 -0.1284533   0.64401879  0.78311764]\n",
            " [ 0.77310566 -0.1284533   0.81603017  1.04650856]\n",
            " [-0.79464063  0.96145348 -1.30544349 -1.3240097 ]\n",
            " [-1.51821584  1.17943484 -1.59212912 -1.3240097 ]\n",
            " [-0.9152365  -1.21836008 -0.4453866  -0.13875057]\n",
            " [ 1.61727673  1.17943484  1.3320643   1.70498585]\n",
            " [ 0.53191392 -1.21836008  0.70135592  0.9148131 ]\n",
            " [ 0.29072218 -1.00037872  1.04537867  0.2563358 ]\n",
            " [-0.5534489   1.8333789  -1.42011774 -1.06061878]\n",
            " [ 0.77310566 -0.56441601  0.47200741  0.38803126]\n",
            " [ 0.77310566 -0.1284533   0.98804154  0.78311764]\n",
            " [ 0.29072218 -0.34643465  0.52934454  0.2563358 ]\n",
            " [ 0.89370152 -0.1284533   0.35733316  0.2563358 ]\n",
            " [ 1.01429739 -0.1284533   0.70135592  0.65142218]\n",
            " [-1.03583237  0.52549077 -1.36278062 -1.3240097 ]\n",
            " [ 0.53191392  0.74347212  1.04537867  1.57329039]\n",
            " [ 0.77310566 -0.1284533   1.16005292  1.30989947]\n",
            " [-1.2770241   0.74347212 -1.24810637 -1.3240097 ]\n",
            " [-1.75940758  0.30750941 -1.42011774 -1.3240097 ]\n",
            " [ 1.01429739 -1.21836008  1.16005292  0.78311764]\n",
            " [-1.51821584  0.74347212 -1.36278062 -1.19231424]\n",
            " [ 0.65250979 -0.56441601  1.04537867  1.30989947]\n",
            " [-0.19166129 -1.00037872 -0.15870097 -0.27044603]\n",
            " [ 0.04953045 -0.1284533   0.24265891  0.38803126]\n",
            " [ 1.25548913  0.08952806  0.93070442  1.17820401]\n",
            " [ 1.85846847 -0.56441601  1.3320643   0.9148131 ]\n",
            " [ 1.01429739  0.08952806  0.52934454  0.38803126]\n",
            " [-0.5534489   0.74347212 -1.30544349 -1.06061878]\n",
            " [-0.43285303  0.96145348 -1.42011774 -1.3240097 ]\n",
            " [-1.15642824 -1.21836008  0.41467029  0.65142218]\n",
            " [-0.07106542  2.05136026 -1.47745487 -1.3240097 ]\n",
            " [ 0.53191392  0.52549077  0.52934454  0.51972672]\n",
            " [ 0.41131805 -0.56441601  0.58668166  0.78311764]\n",
            " [ 0.77310566  0.30750941  0.75869304  1.04650856]\n",
            " [-0.9152365   0.96145348 -1.36278062 -1.19231424]\n",
            " [-1.2770241  -0.1284533  -1.36278062 -1.45570516]\n",
            " [-1.2770241   0.74347212 -1.07609499 -1.3240097 ]\n",
            " [ 0.41131805  0.74347212  0.93070442  1.44159493]\n",
            " [-1.75940758 -0.34643465 -1.36278062 -1.3240097 ]\n",
            " [-0.9152365   1.61539755 -1.24810637 -1.3240097 ]\n",
            " [ 2.22025607 -1.00037872  1.79076131  1.44159493]\n",
            " [-1.15642824 -1.43634143 -0.27337523 -0.27044603]\n",
            " [-0.43285303 -1.65432279  0.12798466  0.12464034]\n",
            " [ 1.01429739  0.08952806  0.35733316  0.2563358 ]\n",
            " [-0.19166129  2.92328568 -1.30544349 -1.06061878]\n",
            " [ 1.25548913  0.30750941  1.1027158   1.44159493]\n",
            " [-0.31225716 -0.56441601  0.64401879  1.04650856]\n",
            " [ 0.41131805 -1.87230414  0.41467029  0.38803126]\n",
            " [-0.19166129 -0.1284533   0.24265891 -0.00705511]\n",
            " [-0.79464063  2.26934161 -1.30544349 -1.45570516]\n",
            " [ 1.01429739  0.52549077  1.1027158   1.17820401]\n",
            " [ 2.46144781  1.61539755  1.50407568  1.04650856]]\n",
            "Standardized Testing Data:\n",
            "[[-0.9152365   0.96145348 -1.36278062 -1.3240097 ]\n",
            " [-1.03583237  0.96145348 -1.24810637 -0.79722787]\n",
            " [ 1.61727673 -0.1284533   1.16005292  0.51972672]\n",
            " [-1.51821584  0.08952806 -1.30544349 -1.3240097 ]\n",
            " [-1.15642824  0.08952806 -1.30544349 -1.3240097 ]\n",
            " [-0.9152365   1.61539755 -1.07609499 -1.06061878]\n",
            " [-1.75940758 -0.1284533  -1.42011774 -1.3240097 ]\n",
            " [ 2.09966021 -0.1284533   1.61874993  1.17820401]\n",
            " [ 0.53191392 -0.78239737  0.64401879  0.78311764]\n",
            " [ 1.01429739  0.08952806  1.04537867  1.57329039]\n",
            " [-0.79464063  0.74347212 -1.36278062 -1.3240097 ]\n",
            " [ 1.61727673  0.30750941  1.27472717  0.78311764]\n",
            " [-0.19166129 -1.21836008  0.70135592  1.04650856]\n",
            " [ 0.53191392 -0.34643465  1.04537867  0.78311764]\n",
            " [ 0.53191392 -0.56441601  0.75869304  0.38803126]\n",
            " [-1.03583237  0.30750941 -1.47745487 -1.3240097 ]\n",
            " [ 1.01429739 -0.1284533   0.81603017  1.44159493]\n",
            " [-0.07106542 -0.78239737  0.75869304  0.9148131 ]\n",
            " [-1.03583237  0.96145348 -1.42011774 -1.19231424]\n",
            " [ 0.53191392 -1.65432279  0.35733316  0.12464034]\n",
            " [-0.5534489  -0.1284533   0.41467029  0.38803126]\n",
            " [ 0.17012631  0.74347212  0.41467029  0.51972672]\n",
            " [ 0.65250979  0.30750941  0.87336729  1.44159493]\n",
            " [ 0.65250979  0.30750941  0.41467029  0.38803126]\n",
            " [-1.03583237  1.17943484 -1.36278062 -1.3240097 ]\n",
            " [ 1.13489326 -0.1284533   0.98804154  1.17820401]\n",
            " [-0.07106542 -1.00037872  0.12798466 -0.00705511]\n",
            " [-0.31225716 -0.34643465 -0.10136385  0.12464034]\n",
            " [-0.5534489   1.39741619 -1.30544349 -1.3240097 ]\n",
            " [ 0.29072218 -0.1284533   0.47200741  0.2563358 ]\n",
            " [ 1.13489326 -0.56441601  0.58668166  0.2563358 ]\n",
            " [-0.19166129 -0.34643465  0.24265891  0.12464034]\n",
            " [ 0.17012631 -1.87230414  0.70135592  0.38803126]\n",
            " [-0.07106542 -0.78239737  0.75869304  0.9148131 ]\n",
            " [-1.03583237 -0.1284533  -1.24810637 -1.3240097 ]\n",
            " [ 0.65250979  0.08952806  0.98804154  0.78311764]\n",
            " [-1.88000345 -0.1284533  -1.534792   -1.45570516]\n",
            " [-1.03583237  0.74347212 -1.24810637 -1.06061878]]\n"
          ]
        }
      ]
    },
    {
      "cell_type": "code",
      "source": [],
      "metadata": {
        "id": "nIxB4CIpydeb"
      },
      "execution_count": null,
      "outputs": []
    },
    {
      "cell_type": "markdown",
      "source": [
        "Q7. Write a Python function to calculate the euclidean distance between two points."
      ],
      "metadata": {
        "id": "7FJDaA4cyd2j"
      }
    },
    {
      "cell_type": "code",
      "source": [
        "def euclidean_distance(x,y):\n",
        "    x1,x2=x\n",
        "    y1,y2=y\n",
        "    dist = np.sqrt((x2-x1)**2 +(y2-y1)**2)\n",
        "    return dist"
      ],
      "metadata": {
        "id": "Z4Hk979HyegH"
      },
      "execution_count": 14,
      "outputs": []
    },
    {
      "cell_type": "code",
      "source": [
        "point1 = (1, 2)\n",
        "point2 = (4, 6)\n",
        "distance = euclidean_distance(point1, point2)\n",
        "print(f\"Euclidean Distance: {distance:.2f}\")"
      ],
      "metadata": {
        "colab": {
          "base_uri": "https://localhost:8080/"
        },
        "id": "PsDkYQhvygMI",
        "outputId": "42fa7e1f-34b2-4be2-9e37-48e37da536b5"
      },
      "execution_count": 15,
      "outputs": [
        {
          "output_type": "stream",
          "name": "stdout",
          "text": [
            "Euclidean Distance: 2.24\n"
          ]
        }
      ]
    },
    {
      "cell_type": "code",
      "source": [],
      "metadata": {
        "id": "9hnfIRCmyhxw"
      },
      "execution_count": null,
      "outputs": []
    },
    {
      "cell_type": "markdown",
      "source": [
        "Q8. Write a Python function to calculate the manhattan distance between two points."
      ],
      "metadata": {
        "id": "adXclI0Myjkl"
      }
    },
    {
      "cell_type": "code",
      "source": [
        "def manhattan_distance(x,y):\n",
        "    x1,x2=x\n",
        "    y1,y2=y\n",
        "    dist = np.abs(x2-x1) + np.abs(y2-y1)\n",
        "    return dist"
      ],
      "metadata": {
        "id": "SYRfWaltykO3"
      },
      "execution_count": 16,
      "outputs": []
    },
    {
      "cell_type": "code",
      "source": [
        "point1 = (1, 2)\n",
        "point2 = (4, 6)\n",
        "distance = manhattan_distance(point1, point2)\n",
        "print(f\"Manhattan Distance: {distance:.2f}\")"
      ],
      "metadata": {
        "id": "ODUldwz-ylxn",
        "outputId": "f7038fa5-bd8c-491c-8df5-8a091a48d6da",
        "colab": {
          "base_uri": "https://localhost:8080/"
        }
      },
      "execution_count": 17,
      "outputs": [
        {
          "output_type": "stream",
          "name": "stdout",
          "text": [
            "Manhattan Distance: 3.00\n"
          ]
        }
      ]
    },
    {
      "cell_type": "code",
      "source": [],
      "metadata": {
        "id": "J1Aqwz8MynXP"
      },
      "execution_count": null,
      "outputs": []
    }
  ]
}